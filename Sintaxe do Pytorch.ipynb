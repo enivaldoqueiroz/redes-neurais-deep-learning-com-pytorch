{
 "cells": [
  {
   "cell_type": "markdown",
   "id": "e9e37226",
   "metadata": {},
   "source": [
    "## Tipos de tensores"
   ]
  },
  {
   "cell_type": "code",
   "execution_count": 3,
   "id": "628ce45e",
   "metadata": {},
   "outputs": [
    {
     "name": "stdout",
     "output_type": "stream",
     "text": [
      "torch.float32\n",
      "tensor([[1., 2., 3.],\n",
      "        [4., 5., 6.]])\n",
      "torch.float32\n",
      "tensor([[1., 2., 3.],\n",
      "        [4., 5., 6.]])\n",
      "torch.float64\n",
      "tensor([[1., 2., 3.],\n",
      "        [4., 5., 6.]], dtype=torch.float64)\n",
      "torch.int64\n",
      "tensor([[1, 2, 3],\n",
      "        [4, 5, 6]])\n"
     ]
    }
   ],
   "source": [
    "import torch\n",
    "\n",
    "lista = [[1,2,3],[4,5,6]]\n",
    "\n",
    "tns = torch.Tensor(lista)\n",
    "print(tns.dtype)\n",
    "print(tns)\n",
    "\n",
    "tns = torch.FloatTensor(lista)\n",
    "print(tns.dtype)\n",
    "print(tns)\n",
    "\n",
    "tns = torch.DoubleTensor(lista)\n",
    "print(tns.dtype)\n",
    "print(tns)\n",
    "\n",
    "tns = torch.LongTensor(lista)\n",
    "print(tns.dtype)\n",
    "print(tns)"
   ]
  },
  {
   "cell_type": "markdown",
   "id": "53231d26",
   "metadata": {},
   "source": [
    "## Outras forma de instanciar tensores"
   ]
  },
  {
   "cell_type": "markdown",
   "id": "e7d9ee83",
   "metadata": {},
   "source": [
    "### Apartir de arrays Numpy\n",
    "\n",
    "torch.from_numpy"
   ]
  },
  {
   "cell_type": "code",
   "execution_count": 4,
   "id": "8a570124",
   "metadata": {},
   "outputs": [
    {
     "name": "stdout",
     "output_type": "stream",
     "text": [
      "[[0.11291871 0.57709853 0.44858387 0.59411302]\n",
      " [0.3121328  0.36566497 0.19611744 0.53731955]\n",
      " [0.63242934 0.39706806 0.16411964 0.00210916]]\n",
      "Tipo de arra :  float64\n",
      "tensor([[0.1129, 0.5771, 0.4486, 0.5941],\n",
      "        [0.3121, 0.3657, 0.1961, 0.5373],\n",
      "        [0.6324, 0.3971, 0.1641, 0.0021]], dtype=torch.float64)\n",
      "Tipo de tensor :  torch.float64\n"
     ]
    }
   ],
   "source": [
    "import numpy as np\n",
    "arr = np.random.rand(3,4)\n",
    "tns = torch.from_numpy(arr)\n",
    "\n",
    "print(arr)\n",
    "print(\"Tipo de arra : \", arr.dtype)\n",
    "print(tns)\n",
    "print(\"Tipo de tensor : \", tns.dtype)"
   ]
  },
  {
   "cell_type": "markdown",
   "id": "723e8898",
   "metadata": {},
   "source": [
    "### Tensores inicializados\n",
    "\n",
    "Essas funções recebem como parametro o tamanho de cada dimensão do tensor. \n",
    "Funções:\n",
    "\n",
    "torch.ones() => Cria um tensor preenchido com zeros\n",
    "torch.zeros() => Cria um tensor preenchido com uns.\n",
    "torch.randn() => Cria um tensor preechifo com numeros aleatorias a apertir de uma distribuição normal"
   ]
  },
  {
   "cell_type": "code",
   "execution_count": 5,
   "id": "68deb74e",
   "metadata": {},
   "outputs": [
    {
     "name": "stdout",
     "output_type": "stream",
     "text": [
      "tensor([[1., 1., 1.],\n",
      "        [1., 1., 1.]])\n",
      "tensor([[0., 0., 0., 0., 0.],\n",
      "        [0., 0., 0., 0., 0.],\n",
      "        [0., 0., 0., 0., 0.],\n",
      "        [0., 0., 0., 0., 0.]])\n",
      "tensor([[ 0.6162,  1.1785, -0.5558],\n",
      "        [ 0.8321,  0.4282, -2.0282],\n",
      "        [ 0.4358,  1.1672, -0.0685]])\n"
     ]
    }
   ],
   "source": [
    "tns1 = torch.ones(2,3)\n",
    "tns0 = torch.zeros(4,5)\n",
    "tnsRand = torch.randn(3,3)\n",
    "\n",
    "print(tns1)\n",
    "print(tns0)\n",
    "print(tnsRand)"
   ]
  },
  {
   "cell_type": "markdown",
   "id": "d0a8b047",
   "metadata": {},
   "source": [
    "### Converter Ternsor para Numpy"
   ]
  },
  {
   "cell_type": "code",
   "execution_count": 6,
   "id": "a0cb9433",
   "metadata": {},
   "outputs": [
    {
     "name": "stdout",
     "output_type": "stream",
     "text": [
      "<class 'torch.Tensor'>\n",
      "<class 'numpy.ndarray'>\n"
     ]
    }
   ],
   "source": [
    "print(type(tnsRand))\n",
    "arr = tnsRand.data.numpy()\n",
    "print(type(arr))"
   ]
  },
  {
   "cell_type": "markdown",
   "id": "162a9f30",
   "metadata": {},
   "source": [
    "### Indexação\n",
    "\n",
    "De posse dessa informação, a indexação  é feita de forma similar a arrays Numpy, através da sintaxe de colchetes[]"
   ]
  },
  {
   "cell_type": "code",
   "execution_count": 7,
   "id": "8a37fa8e",
   "metadata": {},
   "outputs": [
    {
     "name": "stdout",
     "output_type": "stream",
     "text": [
      "tensor([[ 0.6162,  1.1785, -0.5558],\n",
      "        [ 0.8321,  0.4282, -2.0282],\n",
      "        [ 0.4358,  1.1672, -0.0685]])\n",
      "\n",
      "tensor([[ 0.6162,  1.1785,  5.0000],\n",
      "        [ 0.8321,  0.4282, -2.0282],\n",
      "        [ 0.4358,  1.1672, -0.0685]])\n",
      "\n",
      "tensor([ 5.0000, -2.0282, -0.0685])\n",
      "\n",
      "tensor(5.)\n"
     ]
    }
   ],
   "source": [
    "print(tnsRand)\n",
    "tnsRand[0, 2] = 5\n",
    "\n",
    "print('')\n",
    "print(tnsRand)\n",
    "\n",
    "#Indexar com fatia da culona 2\n",
    "print('')\n",
    "print(tnsRand[:,2])\n",
    "\n",
    "#Indexar um unico elemento\n",
    "print('')\n",
    "print(tnsRand[0,2])"
   ]
  },
  {
   "cell_type": "markdown",
   "id": "9938c89f",
   "metadata": {},
   "source": [
    "### Operações com tensores\n",
    "\n",
    "A função .item() utilizada anteriormente extrai o numero de um tensor que possui um valor, \n",
    "permitindo realizar as operações numericas do Python.\n",
    "Caso o item não seja extraido, operações que envolvam tensores vão retornar novos tensores\n",
    "\n",
    "Vale ressaltar também que operações entre tensores são realizadas ponto a ponto, operando cada elemento(i, j) do tensor t1,\n",
    "com o elemento (i, j) do tensor t2\n"
   ]
  },
  {
   "cell_type": "code",
   "execution_count": 8,
   "id": "06f3f39a",
   "metadata": {},
   "outputs": [
    {
     "name": "stdout",
     "output_type": "stream",
     "text": [
      ">Vericar o dimensão do tenser com a função shape\n",
      "torch.Size([3, 3])\n",
      "torch.Size([2, 3])\n",
      "\n",
      ">Ajustando as dimensões da matriz atrabes do fatiamento\n",
      "torch.Size([2, 3])\n",
      "torch.Size([2, 3])\n",
      "\n",
      "tensor([[ 0.6162,  1.1785,  5.0000],\n",
      "        [ 0.8321,  0.4282, -2.0282]])\n",
      "tensor([[1., 1., 1.],\n",
      "        [1., 1., 1.]])\n",
      "\n",
      ">Soma de tensores\n",
      "tensor([[ 1.6162,  2.1785,  6.0000],\n",
      "        [ 1.8321,  1.4282, -1.0282]])\n",
      "\n",
      ">Multiplicação de tensores\n",
      "tensor([[ 0.6162,  1.1785,  5.0000],\n",
      "        [ 0.8321,  0.4282, -2.0282]])\n",
      "\n",
      ">Divisão de tensores\n",
      "tensor([[ 0.6162,  1.1785,  5.0000],\n",
      "        [ 0.8321,  0.4282, -2.0282]])\n",
      "\n",
      ">Multiplicação de tensores com a função mm()\n",
      "tensor([[ 6.7947,  6.7947],\n",
      "        [-0.7680, -0.7680]])\n"
     ]
    }
   ],
   "source": [
    "#Vericar o dimensão do tenser com a função shape\n",
    "print(\">Vericar o dimensão do tenser com a função shape\")\n",
    "print(tnsRand.shape)\n",
    "print(tns1.shape)\n",
    "print('')\n",
    "\n",
    "#Ajustando as dimensões da matriz atrabes do fatiamento\n",
    "print('>Ajustando as dimensões da matriz atrabes do fatiamento')\n",
    "tns = tnsRand[0:2, :]\n",
    "print(tns.shape)\n",
    "print(tns1.shape)\n",
    "print('')\n",
    "print(tns)\n",
    "print(tns1)\n",
    "print('')\n",
    "#Operaç~es de com tensores\n",
    "print('>Soma de tensores')\n",
    "print(tns + tns1)\n",
    "print('')\n",
    "print('>Multiplicação de tensores')\n",
    "print(tns * tns1)\n",
    "print('')\n",
    "print('>Divisão de tensores')\n",
    "print(tns / tns1)\n",
    "print('')\n",
    "print('>Multiplicação de tensores com a função mm()')\n",
    "print(torch.mm(tns,tns1.T))"
   ]
  },
  {
   "cell_type": "markdown",
   "id": "49804f34",
   "metadata": {},
   "source": [
    "### Funções .size() e .view()\n",
    "\n",
    "Operações importantissima na manipulação de tensores para Deep Learning é a reorganização das suas dimensões. Dessa forma podemos, por exemplo, linearizar um tensor n-dimensional"
   ]
  },
  {
   "cell_type": "code",
   "execution_count": 13,
   "id": "eb779658",
   "metadata": {},
   "outputs": [
    {
     "name": "stdout",
     "output_type": "stream",
     "text": [
      "tensor([[[ 6.8171e-02,  1.1598e+00,  1.2183e-03],\n",
      "         [ 7.4336e-01,  1.3114e+00, -9.1900e-01]],\n",
      "\n",
      "        [[ 5.9421e-01,  1.2942e+00, -2.8811e-01],\n",
      "         [ 5.8574e-01, -1.6808e+00, -3.9587e-01]]])\n",
      "-----------------------------------------------------------------------------------------\n",
      "<built-in method size of Tensor object at 0x00000195D04DFE00>\n",
      "-----------------------------------------------------------------------------------------\n",
      "tensor([ 6.8171e-02,  1.1598e+00,  1.2183e-03,  7.4336e-01,  1.3114e+00,\n",
      "        -9.1900e-01,  5.9421e-01,  1.2942e+00, -2.8811e-01,  5.8574e-01,\n",
      "        -1.6808e+00, -3.9587e-01])\n"
     ]
    }
   ],
   "source": [
    "tns = torch.randn(2, 2, 3)\n",
    "print(tns)\n",
    "print('-----------------------------------------------------------------------------------------')\n",
    "print(tns.size)\n",
    "tns = tns.view(12)\n",
    "print('-----------------------------------------------------------------------------------------')\n",
    "print(tns)"
   ]
  },
  {
   "cell_type": "markdown",
   "id": "062399fe",
   "metadata": {},
   "source": [
    "### GPU Cast\n",
    "\n",
    "Para que o seu script dê suporte a infraestruturas com e sem GPU, é importante definir o dispositivo no inicio do seu codigo de acordo com a verificaçao apresentada a seguir. Essa definição de dispositivo será utilizada toda vez que precisarmos subir valores de GPU, como os pesos da rede, os gradientes "
   ]
  },
  {
   "cell_type": "code",
   "execution_count": 16,
   "id": "cf5e76d3",
   "metadata": {},
   "outputs": [
    {
     "name": "stdout",
     "output_type": "stream",
     "text": [
      "cpu\n",
      "tensor([-0.0643, -1.3389,  0.5803, -0.6348, -1.2710, -0.6448,  0.7023,  0.3582,\n",
      "         1.2068,  1.3676])\n"
     ]
    }
   ],
   "source": [
    "import torch\n",
    "tns = torch.randn(10)\n",
    "if torch.cuda.is_available():\n",
    "    device = torch.device('cuda')\n",
    "else:\n",
    "    device = torch.device('cpu')\n",
    "    \n",
    "print(device)\n",
    "\n",
    "tns = tns.to(device)\n",
    "print(tns)"
   ]
  },
  {
   "cell_type": "markdown",
   "id": "984230d5",
   "metadata": {},
   "source": [
    "### Para saber mais\n"
   ]
  },
  {
   "cell_type": "code",
   "execution_count": 22,
   "id": "90f0e43f",
   "metadata": {},
   "outputs": [
    {
     "name": "stdout",
     "output_type": "stream",
     "text": [
      "tensor([ 1.2853,  1.5829,  2.9143,  1.5234, -0.6752, -0.1168, -1.5200,  0.0987,\n",
      "         1.9660, -1.5553, -0.1229,  0.1882,  1.7316, -0.4838, -1.2892])\n"
     ]
    }
   ],
   "source": [
    "tns1 = torch.randn(10)\n",
    "tns2 = torch.randn(5)\n",
    "tns_out = torch.cat( (tns1, tns2), dim=0 )\n",
    "\n",
    "print(tns_out)"
   ]
  },
  {
   "cell_type": "markdown",
   "id": "17799801",
   "metadata": {},
   "source": [
    "https://pytorch.org/docs/stable/torch.html#indexing-slicing-joining-mutating-ops"
   ]
  },
  {
   "cell_type": "code",
   "execution_count": 23,
   "id": "f636e5ac",
   "metadata": {},
   "outputs": [
    {
     "name": "stdout",
     "output_type": "stream",
     "text": [
      "torch.Size([5, 8])\n"
     ]
    }
   ],
   "source": [
    "import torch\n",
    "tns = torch.randn(9, 12)\n",
    "tns1 = tns[0:5, 0:4]\n",
    "tns2 = tns[5:, 4:]\n",
    "\n",
    "#Função torch.mm retorno o produto de tns1 e tns2, ambos devem ter a mesma dimencionalidade\n",
    "resultado = torch.mm(tns1, tns2)\n",
    "print(resultado.size())"
   ]
  },
  {
   "cell_type": "markdown",
   "id": "c841b55f",
   "metadata": {},
   "source": [
    "### 05 Faça como eu fiz na aula\n",
    "\n",
    "Nesta aula nos familiarizamos com o ambiente do Google Colab à medida que introduzimos a sintaxe básica do PyTorch para manipulação de tensores. Para trabalhar com redes neurais, a sua principal preocupação em relação aos tensores é garantir que sua dimensionalidade seja consistente com a operação que se deseja realizar.\n",
    "\n",
    "Pensando nisso, crie um tensor aleatório tns1 com a dimensionalidade 7 x 7 x 3 e um outro tensor aleatório tns2 de 147 x 1. Modificando apenas tns1 some os dois tensores."
   ]
  },
  {
   "cell_type": "code",
   "execution_count": 32,
   "id": "eb0d9074",
   "metadata": {},
   "outputs": [
    {
     "name": "stdout",
     "output_type": "stream",
     "text": [
      "TNS1  tensor([[[ 1.2969e+00,  6.8574e-01, -1.8200e+00],\n",
      "         [-3.2747e-01, -1.5825e+00,  1.4378e+00],\n",
      "         [ 8.1758e-01,  2.7950e-03, -1.7671e-01],\n",
      "         [-8.4492e-01,  6.9002e-01,  1.5150e-01],\n",
      "         [ 1.2314e+00, -1.5588e+00,  2.3067e+00],\n",
      "         [ 1.6200e+00,  4.6692e-01, -1.1199e+00],\n",
      "         [ 5.7047e-01,  3.8647e-01, -2.2152e+00]],\n",
      "\n",
      "        [[-4.5597e-01, -1.5014e-01,  9.0590e-01],\n",
      "         [-1.0812e-01, -9.2775e-01, -1.1947e+00],\n",
      "         [ 1.2992e+00,  1.3495e-01,  5.1127e-01],\n",
      "         [-2.8638e-01,  2.3488e-01, -2.9794e-01],\n",
      "         [-6.0447e-02, -6.4214e-01, -8.1176e-01],\n",
      "         [-1.2362e+00, -5.2753e-01,  5.6299e-01],\n",
      "         [ 1.4219e+00,  9.8924e-02, -1.6388e+00]],\n",
      "\n",
      "        [[-9.9021e-01, -1.5514e+00, -2.7535e-02],\n",
      "         [-6.1939e-01, -3.9950e-02,  1.8954e-01],\n",
      "         [-1.1293e+00,  6.5596e-01,  9.4099e-02],\n",
      "         [-2.7216e-01, -9.6319e-01, -6.0650e-01],\n",
      "         [ 7.7212e-01,  1.0598e+00,  3.5209e-01],\n",
      "         [ 1.4961e+00, -2.4267e-01,  9.6065e-01],\n",
      "         [ 1.8538e+00,  7.0022e-01, -2.3010e-01]],\n",
      "\n",
      "        [[ 5.6136e-01,  3.3716e-01, -5.4834e-03],\n",
      "         [-1.3124e+00,  1.7034e+00,  2.3927e-01],\n",
      "         [ 6.2163e-01,  5.4140e-01,  6.6194e-01],\n",
      "         [ 1.1825e+00,  1.5111e+00, -3.8095e-01],\n",
      "         [ 1.1126e+00,  2.7334e-01,  2.9577e-01],\n",
      "         [-7.8083e-01, -4.3207e-01,  7.0946e-01],\n",
      "         [ 8.3904e-01,  6.2825e-01, -1.1535e+00]],\n",
      "\n",
      "        [[-2.2817e-01, -1.2886e+00,  1.6598e-01],\n",
      "         [ 5.2643e-01,  1.0981e+00,  1.7806e+00],\n",
      "         [ 1.1678e+00, -1.6820e-01, -4.4319e-01],\n",
      "         [ 1.6482e-01,  1.0547e+00, -1.3321e-02],\n",
      "         [ 1.3714e+00, -6.5893e-01, -4.2155e-03],\n",
      "         [-7.2445e-01,  8.2289e-01,  1.3818e+00],\n",
      "         [-6.4927e-01,  5.3028e-01, -1.9037e+00]],\n",
      "\n",
      "        [[ 1.4401e+00, -2.0714e+00, -3.1819e+00],\n",
      "         [-1.6994e+00, -8.2964e-01, -1.8581e+00],\n",
      "         [ 4.3165e-01,  5.3339e-01,  9.8493e-01],\n",
      "         [-1.1891e+00, -6.4528e-01, -1.2415e+00],\n",
      "         [ 3.7408e-01,  1.9956e+00,  4.1158e-03],\n",
      "         [-1.7960e+00, -7.1932e-01,  3.9014e-01],\n",
      "         [ 1.4870e+00, -5.0012e-01,  5.8372e-01]],\n",
      "\n",
      "        [[-8.7855e-01, -2.4130e+00,  3.4450e-01],\n",
      "         [-6.4718e-01, -5.1007e-01, -3.2666e-01],\n",
      "         [ 7.8470e-02, -7.0989e-01, -6.3681e-02],\n",
      "         [ 6.8341e-02,  6.2777e-01,  6.8980e-01],\n",
      "         [ 8.2174e-02, -8.6589e-01, -1.7554e+00],\n",
      "         [ 3.0294e-01, -1.2518e-01, -9.8555e-01],\n",
      "         [ 1.4706e+00,  1.2135e-01, -1.6452e-01]]])\n",
      "TNS2  tensor([[ 0.8419],\n",
      "        [ 0.2324],\n",
      "        [ 0.4996],\n",
      "        [ 1.1923],\n",
      "        [ 1.0881],\n",
      "        [-0.8327],\n",
      "        [ 0.9857],\n",
      "        [-0.5123],\n",
      "        [-0.3387],\n",
      "        [ 1.7538],\n",
      "        [ 0.3761],\n",
      "        [ 0.1554],\n",
      "        [ 1.6238],\n",
      "        [-0.5172],\n",
      "        [-0.3680],\n",
      "        [-0.3560],\n",
      "        [-0.0545],\n",
      "        [-1.5111],\n",
      "        [-0.1947],\n",
      "        [-0.7591],\n",
      "        [ 0.5594],\n",
      "        [-0.1950],\n",
      "        [-0.4232],\n",
      "        [-1.0793],\n",
      "        [-0.9041],\n",
      "        [-0.0576],\n",
      "        [-0.0977],\n",
      "        [-0.2813],\n",
      "        [-0.2136],\n",
      "        [ 0.9947],\n",
      "        [-1.4138],\n",
      "        [ 1.6456],\n",
      "        [ 0.5427],\n",
      "        [ 2.0369],\n",
      "        [-1.2280],\n",
      "        [-0.2708],\n",
      "        [-0.8653],\n",
      "        [-0.8732],\n",
      "        [ 1.5743],\n",
      "        [-0.0379],\n",
      "        [ 1.6885],\n",
      "        [ 0.0046],\n",
      "        [-2.1886],\n",
      "        [ 0.4675],\n",
      "        [-0.4982],\n",
      "        [-0.7740],\n",
      "        [ 1.2208],\n",
      "        [ 1.0581],\n",
      "        [ 0.2901],\n",
      "        [ 0.8581],\n",
      "        [ 0.5934],\n",
      "        [ 0.4559],\n",
      "        [-0.7339],\n",
      "        [ 0.3827],\n",
      "        [-0.0829],\n",
      "        [-0.6346],\n",
      "        [-0.7632],\n",
      "        [-0.3496],\n",
      "        [-0.5480],\n",
      "        [-1.6408],\n",
      "        [-0.8086],\n",
      "        [ 0.5429],\n",
      "        [ 1.4447],\n",
      "        [ 1.1517],\n",
      "        [-0.8993],\n",
      "        [-1.2303],\n",
      "        [-0.0224],\n",
      "        [-0.7694],\n",
      "        [ 0.4475],\n",
      "        [ 0.6660],\n",
      "        [-1.9523],\n",
      "        [ 0.3640],\n",
      "        [ 0.1493],\n",
      "        [ 0.0913],\n",
      "        [ 0.4374],\n",
      "        [-2.0851],\n",
      "        [-2.3671],\n",
      "        [ 0.2044],\n",
      "        [ 0.1570],\n",
      "        [-1.4117],\n",
      "        [ 0.6758],\n",
      "        [ 1.5798],\n",
      "        [-1.2424],\n",
      "        [ 1.4780],\n",
      "        [-0.9718],\n",
      "        [ 0.9842],\n",
      "        [-0.9275],\n",
      "        [-0.1117],\n",
      "        [ 0.4905],\n",
      "        [-0.0499],\n",
      "        [-1.0815],\n",
      "        [-1.0297],\n",
      "        [-0.0085],\n",
      "        [ 0.5374],\n",
      "        [ 0.9817],\n",
      "        [-0.7590],\n",
      "        [ 1.8836],\n",
      "        [-1.3743],\n",
      "        [-0.2742],\n",
      "        [ 1.4046],\n",
      "        [-1.3803],\n",
      "        [ 1.6223],\n",
      "        [-0.5101],\n",
      "        [ 0.6180],\n",
      "        [-0.1181],\n",
      "        [ 0.4321],\n",
      "        [ 1.5382],\n",
      "        [ 1.4874],\n",
      "        [-0.4487],\n",
      "        [-3.3032],\n",
      "        [ 1.1112],\n",
      "        [-1.8190],\n",
      "        [ 0.5565],\n",
      "        [-0.0271],\n",
      "        [ 0.0137],\n",
      "        [-0.9336],\n",
      "        [ 1.2166],\n",
      "        [-0.6656],\n",
      "        [-0.3420],\n",
      "        [-0.3315],\n",
      "        [-0.5125],\n",
      "        [ 1.0078],\n",
      "        [ 0.6088],\n",
      "        [ 2.0408],\n",
      "        [-1.3467],\n",
      "        [ 0.2829],\n",
      "        [ 0.4329],\n",
      "        [ 0.1228],\n",
      "        [ 0.5877],\n",
      "        [ 0.3267],\n",
      "        [-2.1007],\n",
      "        [-0.4262],\n",
      "        [-0.7910],\n",
      "        [-1.4170],\n",
      "        [ 0.1540],\n",
      "        [ 1.1698],\n",
      "        [ 0.5090],\n",
      "        [-0.5998],\n",
      "        [-0.5832],\n",
      "        [-0.5114],\n",
      "        [-0.3007],\n",
      "        [-0.2768],\n",
      "        [-0.3078],\n",
      "        [ 0.3605],\n",
      "        [-0.4937],\n",
      "        [ 0.6365],\n",
      "        [ 2.4173]])\n",
      "==================================================================================================================\n",
      "SOMA DOS DOIS TENSORES  tensor([[ 2.1389],\n",
      "        [ 0.9182],\n",
      "        [-1.3204],\n",
      "        [ 0.8649],\n",
      "        [-0.4944],\n",
      "        [ 0.6051],\n",
      "        [ 1.8033],\n",
      "        [-0.5095],\n",
      "        [-0.5154],\n",
      "        [ 0.9089],\n",
      "        [ 1.0661],\n",
      "        [ 0.3069],\n",
      "        [ 2.8552],\n",
      "        [-2.0760],\n",
      "        [ 1.9386],\n",
      "        [ 1.2641],\n",
      "        [ 0.4124],\n",
      "        [-2.6310],\n",
      "        [ 0.3758],\n",
      "        [-0.3726],\n",
      "        [-1.6559],\n",
      "        [-0.6510],\n",
      "        [-0.5733],\n",
      "        [-0.1734],\n",
      "        [-1.0122],\n",
      "        [-0.9853],\n",
      "        [-1.2923],\n",
      "        [ 1.0180],\n",
      "        [-0.0787],\n",
      "        [ 1.5060],\n",
      "        [-1.7002],\n",
      "        [ 1.8805],\n",
      "        [ 0.2447],\n",
      "        [ 1.9765],\n",
      "        [-1.8701],\n",
      "        [-1.0825],\n",
      "        [-2.1014],\n",
      "        [-1.4008],\n",
      "        [ 2.1373],\n",
      "        [ 1.3840],\n",
      "        [ 1.7874],\n",
      "        [-1.6342],\n",
      "        [-3.1788],\n",
      "        [-1.0839],\n",
      "        [-0.5258],\n",
      "        [-1.3934],\n",
      "        [ 1.1809],\n",
      "        [ 1.2477],\n",
      "        [-0.8392],\n",
      "        [ 1.5141],\n",
      "        [ 0.6875],\n",
      "        [ 0.1838],\n",
      "        [-1.6971],\n",
      "        [-0.2238],\n",
      "        [ 0.6892],\n",
      "        [ 0.4252],\n",
      "        [-0.4111],\n",
      "        [ 1.1465],\n",
      "        [-0.7906],\n",
      "        [-0.6801],\n",
      "        [ 1.0452],\n",
      "        [ 1.2431],\n",
      "        [ 1.2146],\n",
      "        [ 1.7131],\n",
      "        [-0.5622],\n",
      "        [-1.2358],\n",
      "        [-1.3349],\n",
      "        [ 0.9340],\n",
      "        [ 0.6868],\n",
      "        [ 1.2877],\n",
      "        [-1.4109],\n",
      "        [ 1.0259],\n",
      "        [ 1.3318],\n",
      "        [ 1.6024],\n",
      "        [ 0.0564],\n",
      "        [-0.9725],\n",
      "        [-2.0937],\n",
      "        [ 0.5002],\n",
      "        [-0.6239],\n",
      "        [-1.8438],\n",
      "        [ 1.3852],\n",
      "        [ 2.4189],\n",
      "        [-0.6141],\n",
      "        [ 0.3245],\n",
      "        [-1.2000],\n",
      "        [-0.3044],\n",
      "        [-0.7615],\n",
      "        [ 0.4147],\n",
      "        [ 1.5886],\n",
      "        [ 1.7307],\n",
      "        [ 0.0863],\n",
      "        [-1.1979],\n",
      "        [-0.4517],\n",
      "        [ 0.7022],\n",
      "        [ 2.0364],\n",
      "        [-0.7723],\n",
      "        [ 3.2550],\n",
      "        [-2.0332],\n",
      "        [-0.2784],\n",
      "        [ 0.6802],\n",
      "        [-0.5574],\n",
      "        [ 3.0041],\n",
      "        [-1.1594],\n",
      "        [ 1.1483],\n",
      "        [-2.0218],\n",
      "        [ 1.8723],\n",
      "        [-0.5332],\n",
      "        [-1.6946],\n",
      "        [-2.1481],\n",
      "        [-4.1329],\n",
      "        [-0.7469],\n",
      "        [-1.3873],\n",
      "        [ 1.0899],\n",
      "        [ 0.9578],\n",
      "        [-1.1754],\n",
      "        [-1.5788],\n",
      "        [-0.0249],\n",
      "        [-0.2915],\n",
      "        [ 1.6536],\n",
      "        [-0.3274],\n",
      "        [-2.3086],\n",
      "        [ 0.2885],\n",
      "        [ 0.9989],\n",
      "        [ 3.5278],\n",
      "        [-1.8468],\n",
      "        [ 0.8666],\n",
      "        [-0.4457],\n",
      "        [-2.2902],\n",
      "        [ 0.9322],\n",
      "        [-0.3205],\n",
      "        [-2.6107],\n",
      "        [-0.7529],\n",
      "        [-0.7125],\n",
      "        [-2.1269],\n",
      "        [ 0.0903],\n",
      "        [ 1.2382],\n",
      "        [ 1.1368],\n",
      "        [ 0.0900],\n",
      "        [-0.5010],\n",
      "        [-1.3773],\n",
      "        [-2.0561],\n",
      "        [ 0.0261],\n",
      "        [-0.4329],\n",
      "        [-0.6250],\n",
      "        [ 0.9769],\n",
      "        [ 0.7579],\n",
      "        [ 2.2528]])\n"
     ]
    }
   ],
   "source": [
    "import torch\n",
    "\n",
    "tns1 = torch.randn(7,7,3)\n",
    "tns2 = torch.randn(147,1)\n",
    "\n",
    "print('TNS1 ',tns1)\n",
    "print('TNS2 ',tns2)\n",
    "\n",
    "tns1 = tns1.view(-1, 1)\n",
    "soma = tns1 + tns2\n",
    "print('==================================================================================================================')\n",
    "print('SOMA DOS DOIS TENSORES ', soma)"
   ]
  },
  {
   "cell_type": "markdown",
   "id": "9e962b2c",
   "metadata": {},
   "source": [
    "# 03 - Perceptron"
   ]
  },
  {
   "cell_type": "markdown",
   "id": "e8b1b338",
   "metadata": {},
   "source": [
    "### Classificação Linear"
   ]
  },
  {
   "cell_type": "markdown",
   "id": "a7d4bd64",
   "metadata": {},
   "source": [
    "### Equação da Reta\n",
    "\n",
    "A equação da reta é aprendida na forma ax + by + c, mas para nos adequarmos as nomenclaturas de rede neurais, podemos reescrever essas equação como w1*x1 + w2*x2 + b. Ou seja, w1, w2 e são os parametros  que definem o nosso medelo linear, a nosso reta.\n",
    "\n",
    "Vamos começar realizando o plot de uma reta especifica: -1x1 + 4x2 + 0.4"
   ]
  }
 ],
 "metadata": {
  "kernelspec": {
   "display_name": "Python 3",
   "language": "python",
   "name": "python3"
  },
  "language_info": {
   "codemirror_mode": {
    "name": "ipython",
    "version": 3
   },
   "file_extension": ".py",
   "mimetype": "text/x-python",
   "name": "python",
   "nbconvert_exporter": "python",
   "pygments_lexer": "ipython3",
   "version": "3.8.8"
  }
 },
 "nbformat": 4,
 "nbformat_minor": 5
}
